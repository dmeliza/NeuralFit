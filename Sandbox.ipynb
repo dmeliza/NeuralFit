{
 "cells": [
  {
   "cell_type": "code",
   "execution_count": 1,
   "metadata": {
    "collapsed": true
   },
   "outputs": [],
   "source": [
    "import numpy as np\n",
    "import math\n",
    "\n"
   ]
  },
  {
   "cell_type": "code",
   "execution_count": 2,
   "metadata": {
    "collapsed": true
   },
   "outputs": [],
   "source": [
    "def normpdf(mu, x, sd):\n",
    "    var = float(sd)**2\n",
    "    pi = np.pi\n",
    "    denom = (2*pi*var)**.5\n",
    "    return (math.exp(-(float(x)-float(mu))**2/(2*var)))/denom\n",
    "\n",
    "def lognormpdf(mu, x, sd):\n",
    "    var = float(sd)**2\n",
    "    pi = np.pi\n",
    "    denom = (2*pi*var)**.5\n",
    "    return ((-(float(x)-float(mu))**2/(2*var))) - (np.log(denom)) \n",
    "    \n",
    "    "
   ]
  },
  {
   "cell_type": "code",
   "execution_count": 3,
   "metadata": {
    "collapsed": false
   },
   "outputs": [
    {
     "name": "stdout",
     "output_type": "stream",
     "text": [
      "CPU times: user 4.73 s, sys: 43.6 ms, total: 4.77 s\n",
      "Wall time: 4.77 s\n",
      "CPU times: user 8.45 s, sys: 384 ms, total: 8.83 s\n",
      "Wall time: 8.51 s\n",
      "CPU times: user 8.31 s, sys: 179 ms, total: 8.49 s\n",
      "Wall time: 8.34 s\n"
     ]
    }
   ],
   "source": [
    "mu = np.random.uniform(low=0.0, high=5.0, size=3000000)\n",
    "x = np.random.uniform(low=3.0, high=7.0, size=3000000)\n",
    "sd = np.random.uniform(low=1.0, high=3.0, size=3000000)\n",
    "\n",
    "%time for i in range (0,3000000) : normpdf(mu[i], x[i], sd[i])\n",
    "%time for i in range (0,3000000) : np.log(normpdf(mu[i], x[i], sd[i]))\n",
    "%time for i in range (0,3000000) : lognormpdf(mu[i], x[i], sd[i])\n",
    "\n"
   ]
  },
  {
   "cell_type": "code",
   "execution_count": null,
   "metadata": {
    "collapsed": true
   },
   "outputs": [],
   "source": []
  }
 ],
 "metadata": {
  "kernelspec": {
   "display_name": "Python 2",
   "language": "python",
   "name": "python2"
  },
  "language_info": {
   "codemirror_mode": {
    "name": "ipython",
    "version": 2
   },
   "file_extension": ".py",
   "mimetype": "text/x-python",
   "name": "python",
   "nbconvert_exporter": "python",
   "pygments_lexer": "ipython2",
   "version": "2.7.13"
  }
 },
 "nbformat": 4,
 "nbformat_minor": 2
}
